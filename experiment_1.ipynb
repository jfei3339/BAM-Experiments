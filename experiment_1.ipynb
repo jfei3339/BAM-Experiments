{
 "cells": [
  {
   "attachments": {},
   "cell_type": "markdown",
   "metadata": {},
   "source": [
    "Generating Data (One seed)"
   ]
  },
  {
   "cell_type": "code",
   "execution_count": 1,
   "metadata": {},
   "outputs": [],
   "source": [
    "import numpy as np\n",
    "import matplotlib.pyplot as plt\n",
    "import scipy.integrate as integrate\n",
    "\n",
    "times = np.arange(0, 500) # step size 1\n",
    "thetas = 0.3 * np.sin(2*np.pi*times / 100) + 0.5\n",
    "observations = None # np.array([np.random.binomial(15, theta) for theta in thetas])"
   ]
  },
  {
   "attachments": {},
   "cell_type": "markdown",
   "metadata": {},
   "source": [
    "Helper functions"
   ]
  },
  {
   "cell_type": "code",
   "execution_count": 5,
   "metadata": {},
   "outputs": [],
   "source": [
    "from math import factorial as fac\n",
    "from functools import cache\n",
    "\n",
    "@cache\n",
    "def binom(n, p):\n",
    "    if p > n/2:\n",
    "        return binom(n, n-p)\n",
    "    elif p == 0:\n",
    "        return 1\n",
    "    else:\n",
    "        return (binom(n-1, p-1)*n)//p\n",
    "\n",
    "@cache\n",
    "def B(a, b):\n",
    "    return fac(a-1)*fac(b-1) / fac(a+b-1)"
   ]
  },
  {
   "attachments": {},
   "cell_type": "markdown",
   "metadata": {},
   "source": [
    "Recursive Bayes"
   ]
  },
  {
   "cell_type": "code",
   "execution_count": 6,
   "metadata": {},
   "outputs": [],
   "source": [
    "# posterior means\n",
    "def recursive_bayes():\n",
    "    betas = [[1,1]]\n",
    "    means = [0.5]\n",
    "    vars = [np.log(0.083)]\n",
    "    for obs in observations[1:]:\n",
    "        a, b = betas[-1]\n",
    "        betas.append([a + obs, b + 15 - obs])\n",
    "        a, b = a + obs, b + 15 - obs\n",
    "        \n",
    "        means.append(a/(a+b)) # mean of beta.\n",
    "        var = np.log(a) + np.log(b) - 2*np.log(a+b) - np.log(a+b+1)\n",
    "        vars.append(var)\n",
    "    return means, vars"
   ]
  },
  {
   "attachments": {},
   "cell_type": "markdown",
   "metadata": {},
   "source": [
    "BAM no regularization ($\\lambda = 0$)"
   ]
  },
  {
   "cell_type": "code",
   "execution_count": 7,
   "metadata": {},
   "outputs": [],
   "source": [
    "def BAM_noreg():\n",
    "    means = [0.5]\n",
    "    vars = [np.log(0.083)]\n",
    "    for t in range(2, 500):\n",
    "\n",
    "        W = np.array([0 for _ in range(t-1)])\n",
    "        scores = [0 for _ in range(t-1)]\n",
    "        observations_ = observations[:t-1]\n",
    "        D = observations[t]\n",
    "        priorScore = -1000 # binom(15, D)*(theta**D)*(1-theta)**(15-D)\n",
    "\n",
    "        for _ in range(t-1):\n",
    "            for i in range(t-1): # select best W[i]\n",
    "                if W[i] == 0:\n",
    "                    W[i] = 1\n",
    "                    a, b = 1 + W@observations_, 1 + W@(15 - observations_) \n",
    "                    scores[i] = binom(15, D) * B(a + D, b + 15 - D) / B(a, b) \n",
    "                    W[i] = 0\n",
    "                else: # has already been chosen, dont consider again\n",
    "                    scores[i] = np.NINF\n",
    "            idx = np.argmax(scores)\n",
    "            score = scores[idx]\n",
    "            if score > priorScore:\n",
    "                W[idx] = 1\n",
    "                priorScore = score\n",
    "            else:\n",
    "                break\n",
    "        \n",
    "        # print(sum(W))\n",
    "        a, b = 1 + W@observations_, 1 + W@(15 - observations_) \n",
    "        means.append(a/(a+b))\n",
    "        var = np.log(a) + np.log(b) - 2*np.log(a+b) - np.log(a+b+1)\n",
    "        vars.append(var)\n",
    "    return means, vars"
   ]
  },
  {
   "attachments": {},
   "cell_type": "markdown",
   "metadata": {},
   "source": [
    "BAM with regularization: $\\lambda = 0.1$"
   ]
  },
  {
   "cell_type": "code",
   "execution_count": 27,
   "metadata": {},
   "outputs": [],
   "source": [
    "from scipy.special import rel_entr\n",
    "steps = 100\n",
    "p_2 = [1 for _ in range(steps)]\n",
    "X = np.arange(0, 1, 1/steps)\n",
    "\n",
    "@cache\n",
    "def regularization_term(a_1, b_1):\n",
    "    p_1 = [(1/B(a_1, b_1)) * (x**(a_1 - 1)) * ((1-x)**(b_1 - 1)) for x in X]\n",
    "    return -0.6*np.sqrt(2*np.sum(rel_entr(p_1, p_2))*(1/steps))"
   ]
  },
  {
   "cell_type": "code",
   "execution_count": 18,
   "metadata": {},
   "outputs": [],
   "source": [
    "def BAM_reg():    \n",
    "    means = [0.5]\n",
    "    vars = [np.log(0.083)]\n",
    "    for t in range(2, 500):\n",
    "\n",
    "        W = np.array([0 for _ in range(t-1)])\n",
    "        scores = [0 for _ in range(t-1)]\n",
    "        observations_ = observations[:t-1]\n",
    "        D = observations[t]\n",
    "        priorScore = -1000 # binom(15, D)*(theta**D)*(1-theta)**(15-D)\n",
    "\n",
    "        for _ in range(t-1):\n",
    "            for i in range(t-1): # select best W[i]\n",
    "                if W[i] == 0:\n",
    "                    W[i] = 1\n",
    "                    a, b = 1 + W@observations_, 1 + W@(15 - observations_) \n",
    "                    scores[i] = np.log(binom(15, D) * B(a + D, b + 15 - D) / B(a, b)) + regularization_term(a, b)\n",
    "                    W[i] = 0\n",
    "                else: # has already been chosen, dont consider again\n",
    "                    scores[i] = np.NINF\n",
    "            idx = np.argmax(scores)\n",
    "            score = scores[idx]\n",
    "            if score > priorScore:\n",
    "                W[idx] = 1\n",
    "                priorScore = score\n",
    "            else:\n",
    "                break\n",
    "        \n",
    "        # print(sum(W))\n",
    "        a, b = 1 + W@observations_, 1 + W@(15 - observations_) \n",
    "        means.append(a/(a+b))\n",
    "        var = np.log(a) + np.log(b) - 2*np.log(a+b) - np.log(a+b+1)\n",
    "        vars.append(var)\n",
    "    return means, vars\n",
    "    "
   ]
  },
  {
   "attachments": {},
   "cell_type": "markdown",
   "metadata": {},
   "source": [
    "BOCD"
   ]
  },
  {
   "cell_type": "code",
   "execution_count": 10,
   "metadata": {},
   "outputs": [],
   "source": [
    "from scipy.stats import beta\n",
    "from scipy.special import logsumexp\n",
    "\n",
    "def BOCD():\n",
    "    T = 500\n",
    "    log_R = -np.inf * np.zeros((T+1, T+1)) # R[i, j] = P(j | i)\n",
    "    log_R[0, 0] = 0\n",
    "    max_R = np.empty(T+1)\n",
    "    max_R[0] = 1\n",
    "    a = np.array([1])\n",
    "    b = np.array([1])\n",
    "    log_message = np.array([0])\n",
    "    H = 1/100\n",
    "    log_H = np.log(H)\n",
    "    log_1mH = np.log(1 - H)\n",
    "\n",
    "    means = np.empty(T)\n",
    "    vars = np.empty(T)\n",
    "\n",
    "    for t in range(1, T+1):\n",
    "        # 2. observe new data\n",
    "        x = observations[t-1]\n",
    "\n",
    "        # make model preds\n",
    "        means[t-1] = np.sum(np.exp(log_R[t-1, :t]) * (a/(a+b))[:t])\n",
    "        vars[t-1] = logsumexp(log_R[t-1, :t] + (np.log(a) + np.log(b) - 2*np.log(a+b) - np.log(a+b+1))[:t])\n",
    "        # + np.sum(np.exp(log_R[t-1, :t]) * ((a/(a+b))**2)[:t]) - means[t-1]**2) # law of total variance\n",
    "\n",
    "        # 3. evaluate pred. probs.\n",
    "        log_pis = np.log([beta.pdf(x / 15, a[i], b[i]) for i in range(t)])\n",
    "\n",
    "\n",
    "        # 4. Calculate growth probs\n",
    "        log_growth_probs = log_pis + log_message + log_1mH # p(r_t, x<=t)\n",
    "\n",
    "        # 5. Calculate changepoint probs\n",
    "        log_cp_prob = logsumexp(log_pis + log_message + log_H)\n",
    "\n",
    "        # 6. Calculate evidence\n",
    "        new_log_joint = np.append(log_cp_prob, log_growth_probs)\n",
    "\n",
    "        # 7. Determine run length distribution.\n",
    "        log_R[t, :t+1]  = new_log_joint\n",
    "        log_R[t, :t+1] -= logsumexp(new_log_joint)\n",
    "\n",
    "        # 8. Update sufficient statistics.\n",
    "        a = np.append([1], a + x)\n",
    "        b = np.append([1], b + 15 - x)\n",
    "\n",
    "        # Pass message.\n",
    "        log_message = new_log_joint\n",
    "    \n",
    "    return means, vars\n",
    "    "
   ]
  },
  {
   "attachments": {},
   "cell_type": "markdown",
   "metadata": {},
   "source": [
    "20 Seeds experiment"
   ]
  },
  {
   "cell_type": "code",
   "execution_count": 28,
   "metadata": {},
   "outputs": [
    {
     "name": "stderr",
     "output_type": "stream",
     "text": [
      "C:\\Users\\jonat\\AppData\\Local\\Temp\\ipykernel_18792\\1823150894.py:17: RuntimeWarning: invalid value encountered in double_scalars\n",
      "  scores[i] = binom(15, D) * B(a + D, b + 15 - D) / B(a, b)\n",
      "C:\\Users\\jonat\\AppData\\Local\\Temp\\ipykernel_18792\\876413244.py:6: RuntimeWarning: invalid value encountered in multiply\n",
      "  log_R = -np.inf * np.zeros((T+1, T+1)) # R[i, j] = P(j | i)\n",
      "C:\\Users\\jonat\\AppData\\Local\\Temp\\ipykernel_18792\\876413244.py:30: RuntimeWarning: divide by zero encountered in log\n",
      "  log_pis = np.log([beta.pdf(x / 15, a[i], b[i]) for i in range(t)])\n"
     ]
    },
    {
     "name": "stdout",
     "output_type": "stream",
     "text": [
      "0 completed\n",
      "1 completed\n",
      "2 completed\n",
      "3 completed\n",
      "4 completed\n",
      "5 completed\n",
      "6 completed\n",
      "7 completed\n",
      "8 completed\n",
      "9 completed\n",
      "10 completed\n",
      "11 completed\n",
      "12 completed\n",
      "13 completed\n",
      "14 completed\n",
      "15 completed\n",
      "16 completed\n",
      "17 completed\n",
      "18 completed\n",
      "19 completed\n"
     ]
    }
   ],
   "source": [
    "seeds_recursive = []\n",
    "seeds_BAM_noreg = []\n",
    "seeds_BAM_reg = []\n",
    "seeds_BOCD = []\n",
    "\n",
    "\n",
    "num_seeds = 20\n",
    "\n",
    "for _ in range(num_seeds):\n",
    "    observations = np.array([np.random.binomial(15, theta) for theta in thetas])\n",
    "\n",
    "    seeds_recursive.append(recursive_bayes())\n",
    "    seeds_BAM_noreg.append(BAM_noreg())\n",
    "    seeds_BAM_reg.append(BAM_reg())\n",
    "    seeds_BOCD.append(BOCD())\n",
    "\n",
    "    print(_, 'completed')\n"
   ]
  },
  {
   "cell_type": "code",
   "execution_count": 2,
   "metadata": {},
   "outputs": [],
   "source": [
    "import pickle as pkl\n",
    "\n",
    "# pkl.dump(seeds_recursive, open('seeds_recursive.pkl', 'wb'))\n",
    "# pkl.dump(seeds_BAM_noreg, open('seeds_BAM_noreg.pkl', 'wb'))\n",
    "# pkl.dump(seeds_BAM_reg, open('seeds_BAM_reg.pkl', 'wb'))\n",
    "# pkl.dump(seeds_BOCD, open('seeds_BOCD.pkl', 'wb'))\n",
    "\n",
    "seeds_recursive = pkl.load(open('seeds_recursive.pkl', 'rb'))\n",
    "seeds_BAM_noreg = pkl.load(open('seeds_BAM_noreg.pkl', 'rb'))\n",
    "seeds_BAM_reg = pkl.load(open('seeds_BAM_reg.pkl', 'rb'))\n",
    "seeds_BOCD = pkl.load(open('seeds_BOCD.pkl', 'rb'))"
   ]
  },
  {
   "attachments": {},
   "cell_type": "markdown",
   "metadata": {},
   "source": [
    "Plot the means"
   ]
  },
  {
   "cell_type": "code",
   "execution_count": 3,
   "metadata": {},
   "outputs": [],
   "source": [
    "def get_means(seeds, num_seeds):\n",
    "    means = [[0 for _ in range(498)] for _ in range(num_seeds)]\n",
    "\n",
    "    for i in range(num_seeds):\n",
    "        for j in range(498):\n",
    "            means[i][j] = seeds[i][0][j]\n",
    "    means = np.array(means)\n",
    "    means_mean = np.mean(means, axis = 0)\n",
    "    return means_mean\n",
    "\n",
    "means_recursive = get_means(seeds_recursive, 20)\n",
    "means_noreg = get_means(seeds_BAM_noreg, 20)\n",
    "means_reg = get_means(seeds_BAM_reg, 20)\n",
    "means_BOCD = get_means(seeds_BOCD, 20)"
   ]
  },
  {
   "cell_type": "code",
   "execution_count": 12,
   "metadata": {},
   "outputs": [
    {
     "data": {
      "image/png": "[encoded data removed]",
      "text/plain": [
       "<Figure size 432x288 with 1 Axes>"
      ]
     },
     "metadata": {
      "needs_background": "light"
     },
     "output_type": "display_data"
    }
   ],
   "source": [
    "plt.plot(means_recursive, color = 'r', label = 'Recursive Bayes', linewidth = 2)\n",
    "plt.plot(thetas, color = 'k', label = 'True', linewidth = 1.5)\n",
    "plt.xlabel('Time')\n",
    "plt.ylabel('Posterior mean')\n",
    "plt.legend()\n",
    "plt.show()"
   ]
  },
  {
   "attachments": {},
   "cell_type": "markdown",
   "metadata": {},
   "source": [
    "Plot variances"
   ]
  },
  {
   "cell_type": "code",
   "execution_count": 5,
   "metadata": {},
   "outputs": [],
   "source": [
    "def get_vars(seeds, num_seeds):\n",
    "    vars = [[0 for _ in range(498)] for _ in range(num_seeds)]\n",
    "\n",
    "    for i in range(num_seeds):\n",
    "        for j in range(498):\n",
    "            vars[i][j] = seeds[i][1][j]\n",
    "    vars = np.array(vars)\n",
    "    vars_mean = np.mean(vars, axis = 0)\n",
    "    return vars_mean\n",
    "\n",
    "vars_recursive = get_vars(seeds_recursive, 15)\n",
    "vars_noreg = get_vars(seeds_BAM_noreg, 15)\n",
    "vars_reg = get_vars(seeds_BAM_reg, 15)\n",
    "vars_BOCD = get_vars(seeds_BOCD, 20)"
   ]
  },
  {
   "cell_type": "code",
   "execution_count": 6,
   "metadata": {},
   "outputs": [
    {
     "data": {
      "image/png": "[encoded data removed]",
      "text/plain": [
       "<Figure size 432x288 with 1 Axes>"
      ]
     },
     "metadata": {
      "needs_background": "light"
     },
     "output_type": "display_data"
    }
   ],
   "source": [
    "plt.plot(vars_noreg, label = 'BAM, no regularization')\n",
    "plt.plot(vars_reg, label = 'BAM w/ regularization')\n",
    "plt.plot(vars_recursive, label = 'Recursive Bayes')\n",
    "plt.plot(vars_BOCD, label = 'BOCD')\n",
    "plt.xlabel('Time')\n",
    "plt.ylabel('Log posterior variance')\n",
    "plt.legend()\n",
    "plt.show()"
   ]
  }
 ],
 "metadata": {
  "kernelspec": {
   "display_name": "Python 3",
   "language": "python",
   "name": "python3"
  },
  "language_info": {
   "codemirror_mode": {
    "name": "ipython",
    "version": 3
   },
   "file_extension": ".py",
   "mimetype": "text/x-python",
   "name": "python",
   "nbconvert_exporter": "python",
   "pygments_lexer": "ipython3",
   "version": "3.10.5"
  },
  "orig_nbformat": 4
 },
 "nbformat": 4,
 "nbformat_minor": 2
}
